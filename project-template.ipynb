{
 "cells": [
  {
   "cell_type": "markdown",
   "id": "601161e6-8be5-46fa-8d29-0f1c3d5bc8f3",
   "metadata": {},
   "source": [
    "# Projekt-Template"
   ]
  },
  {
   "cell_type": "markdown",
   "id": "f6480b7a-3238-4c0a-9b84-d65f7d07418a",
   "metadata": {},
   "source": [
    "## 1. Definition/Formulierung der Fragestellung\n",
    "## Aufgabenstellung (10 Pkt.)\r\n",
    "\r\n",
    "Definieren Sie eine Sie interessierende bzw. interessante Fragestellung im Zusammenhang mit dem Datensatz:\r\n",
    "\r\n",
    "-   Was interessiert Sie an dem Datensatz?\r\n",
    "-   Welche spezifische Fragestellung würden Sie gern mit Hilfe des Datensatzes beantworten?\r\n",
    "-   Was erwarten Sie, angesichts Ihrer Fragestellung, bezüglich des Datensatzes?"
   ]
  },
  {
   "cell_type": "markdown",
   "id": "e663f019-8a85-410b-9c1a-cb17cf08d32a",
   "metadata": {},
   "source": [
    "## 2. Laden der Daten\n",
    "## Aufgabenstellung (10 Pkt.)\n",
    "\n",
    "Laden Sie die Daten in die R-Sitzung und verschaffen Sie sich einen ersten Überblick \\* Welche Typen sind enthalten? \\* Ist sichergestellt, dass alle Daten den richtigen Typ haben? \\* Haben die Daten irgendwelche \"Seltsamkeiten\" mit denen Sie umgehen müssen, wie z.B. anders codierte `NA`'s, mehrere Tabellen, ... etc. \\* Je nach Datensatz können Sie die Daten auch in eine Datenbank laden und dann auf diese in R zugreifen.\n",
    "\n",
    "Beschreiben Sie, was Sie tun müssen, bevor Sie die Daten im nächsten Abschnitt aufbereiten und bearbeiten können!\n"
   ]
  },
  {
   "cell_type": "markdown",
   "id": "546da388-c100-436e-ab54-eb442fd192a2",
   "metadata": {},
   "source": [
    "## 3. Bearbeiten/Transformieren der Daten\n",
    "## Aufgabenstellung (15 Pkt.)\n",
    "\n",
    "In diesem Abschnitt sollten Sie alle notwendigen Transformationen/Bereiningungen/... etc. der Daten vornehmen (Data Muning, Data Cleansing), wie z.B.: \\* Umcodierung von Daten, z.B. numerisch in kategorial \\* Subsetting der Daten \\* Joining von Datentabellen - falls nötig. Welcher Join ist notwendig? Warum? \\* ...\n",
    "\n",
    "Verschaffen Sie sich eine Übersicht der transformierten Daten. Sie können hierzu Hilfsmittel wie `glimpse()`, `skim()` und `head()` benutzen, um Ihre Erläuterungen zu veranschaulichen.\n",
    "\n",
    "Sind die sich ergebenden Daten so, wie Sie es erwartet haben? Warum oder warum nicht?"
   ]
  },
  {
   "cell_type": "markdown",
   "id": "56d83a5b-3216-458b-b0d8-61d99faab4f8",
   "metadata": {},
   "source": [
    "## 4. Geeignete Visualisierung und Aggregation der Daten\n",
    "## Aufgabenstellung (15 Pkt.)\n",
    "\n",
    "Fassen Sie die Daten in einer geeigenten Form zur Beantwortung Ihrer formulierten Fragestellung zusammen. Ziehen Sie auch geeignete Visualisierungen der transformierten und/oder aggregierten Daten heran, um Ihre Aussagen entsprechend zu untermauern oder zu veranschaulichen.\n",
    "\n",
    "Hier könne Sie auch geeignete statistische Verfahren bzw. Modellierungen nutzen, falls diese Ihnen bezüglich Ihrer Fragestellung weiterhelfen."
   ]
  },
  {
   "cell_type": "markdown",
   "id": "778618e2-c297-4ff6-bcc7-6b8451ab1804",
   "metadata": {},
   "source": [
    "## 5. Zusammenfassung und Schlussfolgerung\n",
    "## Aufgabenstellung (10 Pkt.)\n",
    "\n",
    "Fassen Sie hier Ihre Fragestellung und Ihre Erkenntnisse aus Ihrer Analyse zusammen.\n",
    "\n",
    "Sind Ihre Erkenntnisse das, was Sie erwartet haben? Warum oder warum nicht?"
   ]
  },
  {
   "cell_type": "markdown",
   "id": "7297f3c0-c4c7-4e58-93d7-a847cc88ece4",
   "metadata": {},
   "source": [
    "## Quellenverzeichnis"
   ]
  }
 ],
 "metadata": {
  "kernelspec": {
   "display_name": "Python 3 (ipykernel)",
   "language": "python",
   "name": "python3"
  },
  "language_info": {
   "codemirror_mode": {
    "name": "ipython",
    "version": 3
   },
   "file_extension": ".py",
   "mimetype": "text/x-python",
   "name": "python",
   "nbconvert_exporter": "python",
   "pygments_lexer": "ipython3",
   "version": "3.11.5"
  }
 },
 "nbformat": 4,
 "nbformat_minor": 5
}
